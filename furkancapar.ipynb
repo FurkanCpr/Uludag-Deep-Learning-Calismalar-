{
 "cells": [
  {
   "cell_type": "markdown",
   "metadata": {},
   "source": [
    "# Derin Ogrenme Egitimi Soru Sayfası"
   ]
  },
  {
   "cell_type": "markdown",
   "metadata": {},
   "source": [
    "Merhaba değerli katılımcı, kursa başvurun için ilk önce bu repoyu bilgisayarına indirip jupyter notebook ile çalıştırman gerekiyor, bu işlemleri tamamlaman için sana hiçbir yönerge vermiyoruz, çünkü burada amacımız hali hazırda senin bu işlemleri bilip bilmediğini yahut bunları kendi başına öğrenebiliyor musun buna bakmak. Hazırsan senin için de her şeyi hazırladık.\n"
   ]
  },
  {
   "cell_type": "markdown",
   "metadata": {},
   "source": [
    "Bu test sayfası bir akış halinde hazırlandı, cevaplayabildiğin soruları cevapladıktan sonra kaydedip bize göndermen gerekiyor.\n",
    "Hepsini tamamlamak zorunda değilsin, fakat yapamadığın kısımlar üzerinde araştırarak yeni şeylere ne kadar iyi adapte oluyorsun bunu da görmüş olacaksın.\n",
    "\n",
    "Eğer şuan buradaysan zaten yolun büyük bir kısmını halletmişsin demektir, dosyanı sağ üst taraftaki file menüsünde \"download as\" sekmesinden \".ipynb\" uzantılı olarak indirdikten sonra [Uludag Deep Learning mail adresi](mailto:uludagdeeplearning@gmail.com) gönderebilirsin. Eğer github sayfası açıp ödevini oraya yükledikten sonra ilgili linki bize gönderirsen ekstra puan alacaksın. \n",
    "\n",
    "Ödevin son kısmında opsiyonel bir bölüm daha var, gerçekten zor bir bölüm olduğundan emin olabilirsin, son bölümü seçiciliği artırmak için koyuyoruz, şayet çözersen bu senin için ekstra puan demek.\n",
    "\n",
    "Buradaki her bir satıra hücre deniyor, shift+enter kombinasyonuyla hücreleri çalıştırabilirsin. \"Sen zaten bunu biz söylemeden de basitçe çözebilirdin.\""
   ]
  },
  {
   "cell_type": "code",
   "execution_count": 1,
   "metadata": {
    "collapsed": false
   },
   "outputs": [
    {
     "name": "stdout",
     "output_type": "stream",
     "text": [
      "Isminizi Girin= Furkan Çapar\n"
     ]
    }
   ],
   "source": [
    "isim = input(\"Isminizi Girin= \")"
   ]
  },
  {
   "cell_type": "code",
   "execution_count": 2,
   "metadata": {
    "collapsed": false
   },
   "outputs": [
    {
     "name": "stdout",
     "output_type": "stream",
     "text": [
      "Hosgeldin Furkan Çapar, öncelikle burada olduğun için çok mutluyuz, seni bu test ile karşılaştırdığımız için biz de üzgünüz fakat adil bir seçim yapmamız gerekiyor.\n"
     ]
    }
   ],
   "source": [
    "print(\"Hosgeldin {}, öncelikle burada olduğun için çok mutluyuz, seni bu test ile karşılaştırdığımız için biz de üzgünüz fakat adil bir seçim yapmamız gerekiyor.\".format(isim))"
   ]
  },
  {
   "cell_type": "markdown",
   "metadata": {},
   "source": [
    "## Python"
   ]
  },
  {
   "cell_type": "code",
   "execution_count": 2,
   "metadata": {
    "collapsed": true
   },
   "outputs": [],
   "source": [
    "#İleri kullanacağımız fonksiyonlar için bu hücreyi çalıştırın\n",
    "import numpy\n",
    "import numpy as np\n",
    "import math\n",
    "import sys"
   ]
  },
  {
   "cell_type": "markdown",
   "metadata": {},
   "source": [
    "### Soru 0:\n",
    "\n",
    "Python Versiyonunuzu Yazdırın."
   ]
  },
  {
   "cell_type": "code",
   "execution_count": 4,
   "metadata": {
    "collapsed": false
   },
   "outputs": [
    {
     "name": "stdout",
     "output_type": "stream",
     "text": [
      "3.6.0 |Anaconda 4.3.1 (64-bit)| (default, Dec 23 2016, 12:22:00) \n",
      "[GCC 4.4.7 20120313 (Red Hat 4.4.7-1)] Python versiyonu görüldüğü üzere 3.6.0'dır\n"
     ]
    }
   ],
   "source": [
    "print(sys.version,'Python versiyonu görüldüğü üzere 3.6.0\\'dır')"
   ]
  },
  {
   "cell_type": "markdown",
   "metadata": {},
   "source": [
    "### Soru 1:\n",
    "\n",
    "Telefon numaranızın son hanesindeki rakamdan başlayarak, son iki hanesindeki sayıya kadar devam eden bir liste oluşturun, bu listedeki sayıların ortalamasını ve toplamını yazdırın. (son iki hane sayısı 10'dan küçük olanlar için verilecek değer 70'dir.)"
   ]
  },
  {
   "cell_type": "code",
   "execution_count": 17,
   "metadata": {
    "collapsed": false
   },
   "outputs": [
    {
     "name": "stdout",
     "output_type": "stream",
     "text": [
      "Telefon Numarınızı Girin= 5467347797\n"
     ]
    }
   ],
   "source": [
    "no = int(input(\"Telefon Numarınızı Girin= \"))"
   ]
  },
  {
   "cell_type": "markdown",
   "metadata": {},
   "source": [
    "### Cevap 1:"
   ]
  },
  {
   "cell_type": "code",
   "execution_count": 18,
   "metadata": {
    "collapsed": false,
    "scrolled": true
   },
   "outputs": [
    {
     "name": "stdout",
     "output_type": "stream",
     "text": [
      "Telefon numarasının listesi =  [5, 4, 6, 7, 3, 4, 7, 7, 9, 7]\n",
      "Telefon numarasının son iki hanesinin bir fazlası 98 dir. Range komutunda girilen indislerden son sayı dahil olmadığı için sayı 1 arttırıldı.\n",
      "Telefon numarasının son hanesi = 7 dir.\n",
      "Liste aşağıda görüldüğü gibidir ;\n",
      " [7, 8, 9, 10, 11, 12, 13, 14, 15, 16, 17, 18, 19, 20, 21, 22, 23, 24, 25, 26, 27, 28, 29, 30, 31, 32, 33, 34, 35, 36, 37, 38, 39, 40, 41, 42, 43, 44, 45, 46, 47, 48, 49, 50, 51, 52, 53, 54, 55, 56, 57, 58, 59, 60, 61, 62, 63, 64, 65, 66, 67, 68, 69, 70, 71, 72, 73, 74, 75, 76, 77, 78, 79, 80, 81, 82, 83, 84, 85, 86, 87, 88, 89, 90, 91, 92, 93, 94, 95, 96, 97]\n",
      "Listenin toplamını gösteren değer = 4732\n",
      "Listenin ortalaması = 52.0\n"
     ]
    }
   ],
   "source": [
    "rakam=[int(x) for x in str(no)]\n",
    "print('Telefon numarasının listesi = ',rakam)   \n",
    "a=rakam[9]\n",
    "b=str(rakam[8])+str(rakam[9])\n",
    "b=int(b)+1\n",
    "print('Telefon numarasının son iki hanesinin bir fazlası',b ,'dir. Range komutunda girilen indislerden son sayı dahil olmadığı için sayı 1 arttırıldı.')\n",
    "print('Telefon numarasının son hanesi =',a,'dir.')\n",
    "\n",
    "h=0\n",
    "for sayi_listesi in range(a,b):\n",
    "    sayilar =  list(range(a,b))\n",
    "    h=h+sayi_listesi\n",
    "print('Liste aşağıda görüldüğü gibidir ;\\n',sayilar)\n",
    "print('Listenin toplamını gösteren değer = {}'.format(h))\n",
    "#print(h/((b-a)+1))\n",
    "print('Listenin ortalaması =',h/len(sayilar))\n",
    "\n",
    "\n",
    "\n"
   ]
  },
  {
   "cell_type": "markdown",
   "metadata": {},
   "source": [
    "### Soru 2:"
   ]
  },
  {
   "cell_type": "markdown",
   "metadata": {},
   "source": [
    "Alt satırdaki yazi degiskeni olan hücreyi çalıştırın ve for döngüsüyle bu yazının her harfini bir listeye eleman olarak aktarın.\n",
    "\n",
    "Not: Boşluklar ve noktalama işaretlerini listeye almamalısınız."
   ]
  },
  {
   "cell_type": "code",
   "execution_count": 19,
   "metadata": {
    "collapsed": true
   },
   "outputs": [],
   "source": [
    "yazi = \"uludag deeplearning teknik bir topluluktur.\""
   ]
  },
  {
   "cell_type": "markdown",
   "metadata": {},
   "source": [
    "### Cevap 2:"
   ]
  },
  {
   "cell_type": "code",
   "execution_count": 20,
   "metadata": {
    "collapsed": false
   },
   "outputs": [
    {
     "name": "stdout",
     "output_type": "stream",
     "text": [
      "Aşağıdaki ifade ilk formattaki her harfin listeye eklenmiş halidir:\n",
      " ['u', 'l', 'u', 'd', 'a', 'g', ' ', 'd', 'e', 'e', 'p', 'l', 'e', 'a', 'r', 'n', 'i', 'n', 'g', ' ', 't', 'e', 'k', 'n', 'i', 'k', ' ', 'b', 'i', 'r', ' ', 't', 'o', 'p', 'l', 'u', 'l', 'u', 'k', 't', 'u', 'r', '.']\n",
      "Aşağıdaki liste ise noktalar ve boşlukların çıkarılmış olup soruda istenilen değerdir:\n",
      "  ['u', 'l', 'u', 'd', 'a', 'g', 'd', 'e', 'e', 'p', 'l', 'e', 'a', 'r', 'n', 'i', 'n', 'g', 't', 'e', 'k', 'n', 'i', 'k', 'b', 'i', 'r', 't', 'o', 'p', 'l', 'u', 'l', 'u', 'k', 't', 'u', 'r']\n"
     ]
    }
   ],
   "source": [
    "for x in yazi:\n",
    "    yazi=list(yazi)\n",
    "    s = ''.join(yazi)\n",
    "print('Aşağıdaki ifade ilk formattaki her harfin listeye eklenmiş halidir:\\n',yazi)      \n",
    "s = s.replace(\" \", \"\") # Boşlukları siler.\n",
    "s = s.replace(\".\",\"\") # Noktaları siler.\n",
    "s=list(s)\n",
    "print('Aşağıdaki liste ise noktalar ve boşlukların çıkarılmış olup soruda istenilen değerdir:\\n ',s)\n",
    "\n"
   ]
  },
  {
   "cell_type": "markdown",
   "metadata": {},
   "source": [
    "### Soru 3:\n",
    "\n",
    "Sigmoid fonksiyonunu, sigmoid adını verdiğiniz fonksiyonla tanımlayınız."
   ]
  },
  {
   "cell_type": "markdown",
   "metadata": {},
   "source": [
    "![sigmoid](sigmoid.jpg)"
   ]
  },
  {
   "cell_type": "code",
   "execution_count": 21,
   "metadata": {
    "collapsed": true
   },
   "outputs": [],
   "source": [
    "# Örnek: \n",
    "def fonk_ornek(girdi):\n",
    "    pass #Burası koduna dahil olmayacak.\n",
    "    sonuc = islem1*islem2/girdi\n",
    "    return sonuc"
   ]
  },
  {
   "cell_type": "markdown",
   "metadata": {},
   "source": [
    "### Cevap 3:"
   ]
  },
  {
   "cell_type": "code",
   "execution_count": 3,
   "metadata": {
    "collapsed": false,
    "scrolled": true
   },
   "outputs": [
    {
     "name": "stdout",
     "output_type": "stream",
     "text": [
      "0.9999546021312976\n",
      "0.0066928509242848554\n",
      "0.5\n"
     ]
    }
   ],
   "source": [
    "class calculate:\n",
    "    def sigmoid(x):\n",
    "        sonuc = 1 / (1 + math.exp(-x))\n",
    "        print(sonuc)\n",
    "        return \n",
    "calculate.sigmoid(10)  # 10 yazan değere farklı rakamlar yazılarak test edilebilir.Aşağıda 2 kez daha denenmiştir.\n",
    "calculate.sigmoid(-5)\n",
    "calculate.sigmoid(0)\n",
    "    #Ekteki sigmoid grafiği fotoğrafındakiyle eşleşen sonuçlar alınmıştır."
   ]
  },
  {
   "cell_type": "markdown",
   "metadata": {},
   "source": [
    "## Numpy"
   ]
  },
  {
   "cell_type": "markdown",
   "metadata": {},
   "source": [
    "### Soru 1:\n",
    "\n",
    "5x5 boyutunda, sıfırlar, birler matrislerini oluşturun."
   ]
  },
  {
   "cell_type": "markdown",
   "metadata": {},
   "source": [
    "### Cevap 1:"
   ]
  },
  {
   "cell_type": "code",
   "execution_count": 23,
   "metadata": {
    "collapsed": false
   },
   "outputs": [
    {
     "name": "stdout",
     "output_type": "stream",
     "text": [
      "[[ 0.  0.  0.  0.  0.]\n",
      " [ 0.  0.  0.  0.  0.]\n",
      " [ 0.  0.  0.  0.  0.]\n",
      " [ 0.  0.  0.  0.  0.]\n",
      " [ 0.  0.  0.  0.  0.]]\n",
      "[[ 1.  1.  1.  1.  1.]\n",
      " [ 1.  1.  1.  1.  1.]\n",
      " [ 1.  1.  1.  1.  1.]\n",
      " [ 1.  1.  1.  1.  1.]\n",
      " [ 1.  1.  1.  1.  1.]]\n"
     ]
    }
   ],
   "source": [
    "a = numpy.zeros(shape=(5,5))\n",
    "b = numpy.ones(shape=(5,5))\n",
    "print(a)\n",
    "print(b)"
   ]
  },
  {
   "cell_type": "markdown",
   "metadata": {},
   "source": [
    "### Soru 2:"
   ]
  },
  {
   "cell_type": "markdown",
   "metadata": {},
   "source": [
    "İki farklı 5x5 random sayılardan oluşan iki matris oluşturun. Bu matrisleri matris çarpımı yöntemiyle çarpın"
   ]
  },
  {
   "cell_type": "code",
   "execution_count": 24,
   "metadata": {
    "collapsed": false
   },
   "outputs": [
    {
     "name": "stdout",
     "output_type": "stream",
     "text": [
      "Birinci random değerli matrisin değeri\n",
      " [[ 0.6066474   0.46321704  0.86360567  0.69775692  0.51454235]\n",
      " [ 0.71670694  0.5126954   0.61989077  0.74139035  0.5096441 ]\n",
      " [ 0.42413402  0.04070063  0.55254375  0.69634188  0.00292978]\n",
      " [ 0.61564185  0.93065063  0.2011066   0.82346867  0.09134595]\n",
      " [ 0.82309321  0.94038606  0.94150098  0.61517961  0.00099279]]\n",
      "İkinci random değerli matrisin değeri\n",
      " [[ 0.1030711   0.15496407  0.73873602  0.76354807  0.16758713]\n",
      " [ 0.90497227  0.23827636  0.8884661   0.21527843  0.99381849]\n",
      " [ 0.09788752  0.24219887  0.57438669  0.08937473  0.0167884 ]\n",
      " [ 0.35203455  0.97186029  0.58127933  0.56082507  0.74956056]\n",
      " [ 0.76998638  0.11697477  0.11367005  0.31334289  0.65029813]]\n",
      "İki random değerli matrisin birbirleriyle çarpımı\n",
      " [[ 1.20808776  1.15185725  1.81982825  1.19265737  1.43413551]\n",
      " [ 1.2519405   1.1635072   1.82991288  1.28849868  1.52718157]\n",
      " [ 0.38202834  0.88633874  1.07196016  0.77343614  0.64466042]\n",
      " [ 1.28557829  1.17684388  1.88620992  1.17883948  1.70808945]\n",
      " [ 1.24535055  1.17763689  2.34203941  1.2603817   1.55007916]]\n"
     ]
    }
   ],
   "source": [
    "x=np.random.rand(5,5)\n",
    "y=np.random.rand(5,5)\n",
    "print('Birinci random değerli matrisin değeri\\n',x)\n",
    "print('İkinci random değerli matrisin değeri\\n',y)\n",
    "print('İki random değerli matrisin birbirleriyle çarpımı\\n',x@y)"
   ]
  },
  {
   "cell_type": "markdown",
   "metadata": {},
   "source": [
    "### Soru 3:\n",
    "\n",
    "100 Uzunluklu bir liste oluşturun, önce tek ve çift sayıları döngülerle tek ve çift adlı iki listeye ayırın, bu iki listeyi 5x10 boyutunda iki matris haline getirin."
   ]
  },
  {
   "cell_type": "markdown",
   "metadata": {},
   "source": [
    "### Cevap 3:"
   ]
  },
  {
   "cell_type": "code",
   "execution_count": 25,
   "metadata": {
    "collapsed": false,
    "scrolled": false
   },
   "outputs": [
    {
     "name": "stdout",
     "output_type": "stream",
     "text": [
      "Tek sayıların matris hali aşağıdaki gibidir:\n",
      " [[ 1  3  5  7  9 11 13 15 17 19]\n",
      " [21 23 25 27 29 31 33 35 37 39]\n",
      " [41 43 45 47 49 51 53 55 57 59]\n",
      " [61 63 65 67 69 71 73 75 77 79]\n",
      " [81 83 85 87 89 91 93 95 97 99]]\n",
      "Çift sayıların matris hali aşağıdaki gibidir:\n",
      " [[  2   4   6   8  10  12  14  16  18  20]\n",
      " [ 22  24  26  28  30  32  34  36  38  40]\n",
      " [ 42  44  46  48  50  52  54  56  58  60]\n",
      " [ 62  64  66  68  70  72  74  76  78  80]\n",
      " [ 82  84  86  88  90  92  94  96  98 100]]\n"
     ]
    }
   ],
   "source": [
    "numaralar= list(range(1,101))\n",
    " \n",
    "cift = []\n",
    "tek = []\n",
    "\n",
    "for x in numaralar:    \n",
    "    if x % 2 == 0:    #Burdaki % mod alma işleminin temsilidir.  \n",
    "        cift.append(x)\n",
    "    else:       \n",
    "        tek.append(x)\n",
    "        \n",
    "        \n",
    "tek=np.array(tek)    \n",
    "shape=(5,10)\n",
    "tek.shape=shape  #5x10 matris şekline getiren kod bu satırın kodudur.\n",
    "print('Tek sayıların matris hali aşağıdaki gibidir:\\n',tek)\n",
    "\n",
    "cift=np.array(cift)\n",
    "shape=(5,10)\n",
    "cift.shape=shape\n",
    "print('Çift sayıların matris hali aşağıdaki gibidir:\\n',cift)\n",
    "\n",
    "\n"
   ]
  },
  {
   "cell_type": "markdown",
   "metadata": {},
   "source": [
    "### Soru 0: (Opsiyonel)"
   ]
  },
  {
   "cell_type": "markdown",
   "metadata": {},
   "source": [
    "Buradaki matematiksel ifadeleri python ile yazmanızı bekliyoruz. Aşağıda yazılan fonksiyonların her biri size ekstra bazı puanlar kazandıracaktır."
   ]
  },
  {
   "cell_type": "markdown",
   "metadata": {},
   "source": [
    "![1.](1.jpg \"1\")"
   ]
  },
  {
   "cell_type": "code",
   "execution_count": 69,
   "metadata": {
    "collapsed": false
   },
   "outputs": [],
   "source": []
  },
  {
   "cell_type": "markdown",
   "metadata": {},
   "source": [
    "![3.](3.jpg \"3\")"
   ]
  },
  {
   "cell_type": "code",
   "execution_count": null,
   "metadata": {
    "collapsed": true
   },
   "outputs": [],
   "source": []
  },
  {
   "cell_type": "markdown",
   "metadata": {},
   "source": [
    "![2.](2.jpg \"2\")"
   ]
  },
  {
   "cell_type": "code",
   "execution_count": null,
   "metadata": {
    "collapsed": true
   },
   "outputs": [],
   "source": []
  },
  {
   "cell_type": "code",
   "execution_count": null,
   "metadata": {
    "collapsed": true
   },
   "outputs": [],
   "source": []
  }
 ],
 "metadata": {
  "kernelspec": {
   "display_name": "Python 3",
   "language": "python",
   "name": "python3"
  },
  "language_info": {
   "codemirror_mode": {
    "name": "ipython",
    "version": 3
   },
   "file_extension": ".py",
   "mimetype": "text/x-python",
   "name": "python",
   "nbconvert_exporter": "python",
   "pygments_lexer": "ipython3",
   "version": "3.6.0"
  }
 },
 "nbformat": 4,
 "nbformat_minor": 2
}
